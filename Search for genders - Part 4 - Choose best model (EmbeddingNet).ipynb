{
 "cells": [
  {
   "cell_type": "code",
   "execution_count": 1,
   "id": "875cd0fa",
   "metadata": {},
   "outputs": [],
   "source": [
    "import json\n",
    "import pandas as pd\n",
    "import numpy as np\n",
    "from utils.data_composer import feature_engineering\n",
    "import neptune.new as neptune\n",
    "import torch"
   ]
  },
  {
   "cell_type": "markdown",
   "id": "bfc0be53",
   "metadata": {},
   "source": [
    "# 1. Load all data"
   ]
  },
  {
   "cell_type": "code",
   "execution_count": 2,
   "id": "376dfff5",
   "metadata": {},
   "outputs": [],
   "source": [
    "with open(\"data.json\", \"r\") as f:\n",
    "    data = json.load(f)\n",
    "    \n",
    "# data is a list of 1, grab the core data inside\n",
    "core_data = json.loads(data[0])\n",
    "\n",
    "# Transform dataframe\n",
    "df = pd.DataFrame(core_data)"
   ]
  },
  {
   "cell_type": "markdown",
   "id": "fe49d2be",
   "metadata": {},
   "source": [
    "Okay, so remember, at the previous stage of cleaning data (Part 1), we know that some data samples are invalid on some of their columns. When predicting genders, it's very important to tell the model to not rely on that invalid feature.\n",
    "The way to do that (in our practice) is to fill data that by a \"middle value\", this could be the mean or the median of that particular column. In my practice, I use median because it is robust to outlier.\n",
    "\n",
    "But first let's time them to null first"
   ]
  },
  {
   "cell_type": "code",
   "execution_count": 3,
   "id": "98f9fdbe",
   "metadata": {},
   "outputs": [],
   "source": [
    "# Replace all invalid value with null\n",
    "# Replace invalid coupon by null (< 0 and > 1)\n",
    "def nullize_invalid_coupon(value):\n",
    "    if value > 1 or value < 0:\n",
    "        return np.nan\n",
    "    else:\n",
    "        # Else keep\n",
    "        return value\n",
    "\n",
    "# Replace \n",
    "def nullize_zero_revenue(value):\n",
    "    if value <= 0:\n",
    "        return np.nan\n",
    "    else:\n",
    "        return value\n",
    "\n",
    "# Turn invalid coupon to np.nan\n",
    "df.loc[:,\"coupon_discount_applied\"] = df.loc[:,\"coupon_discount_applied\"].apply(nullize_invalid_coupon)\n",
    "\n",
    "# Turn invalid revenue to np.nan\n",
    "df.loc[:,\"revenue\"] = df.loc[:,\"revenue\"].apply(nullize_zero_revenue)\n"
   ]
  },
  {
   "cell_type": "code",
   "execution_count": 4,
   "id": "db52506b",
   "metadata": {
    "scrolled": true
   },
   "outputs": [],
   "source": [
    "# Run through pre-processor to get useful features\n",
    "df = feature_engineering(df)"
   ]
  },
  {
   "cell_type": "code",
   "execution_count": 5,
   "id": "b83b5318",
   "metadata": {},
   "outputs": [],
   "source": [
    "# Get engineered data\n",
    "feature_df = df.iloc[:,33:]\n",
    "\n",
    "# Also append column \"devices\" and \"coupon_discount_applied\" into\n",
    "feature_df = pd.concat([feature_df, df.loc[:,[\"coupon_discount_applied\",\"devices\",\"customer_id\"]]],axis=1)\n",
    "\n",
    "# partial labels\n",
    "with open(\"partial_labels.csv\",\"r\") as f:\n",
    "    partial_labels_df = pd.read_csv(f)"
   ]
  },
  {
   "cell_type": "code",
   "execution_count": 6,
   "id": "1b487565",
   "metadata": {},
   "outputs": [
    {
     "data": {
      "text/html": [
       "<div>\n",
       "<style scoped>\n",
       "    .dataframe tbody tr th:only-of-type {\n",
       "        vertical-align: middle;\n",
       "    }\n",
       "\n",
       "    .dataframe tbody tr th {\n",
       "        vertical-align: top;\n",
       "    }\n",
       "\n",
       "    .dataframe thead th {\n",
       "        text-align: right;\n",
       "    }\n",
       "</style>\n",
       "<table border=\"1\" class=\"dataframe\">\n",
       "  <thead>\n",
       "    <tr style=\"text-align: right;\">\n",
       "      <th></th>\n",
       "      <th>df_index</th>\n",
       "      <th>female_flag</th>\n",
       "      <th>customer_id</th>\n",
       "    </tr>\n",
       "  </thead>\n",
       "  <tbody>\n",
       "    <tr>\n",
       "      <th>0</th>\n",
       "      <td>7</td>\n",
       "      <td>0</td>\n",
       "      <td>3.017372e+09</td>\n",
       "    </tr>\n",
       "    <tr>\n",
       "      <th>1</th>\n",
       "      <td>30</td>\n",
       "      <td>0</td>\n",
       "      <td>3.018459e+09</td>\n",
       "    </tr>\n",
       "    <tr>\n",
       "      <th>2</th>\n",
       "      <td>82</td>\n",
       "      <td>0</td>\n",
       "      <td>3.020737e+09</td>\n",
       "    </tr>\n",
       "    <tr>\n",
       "      <th>3</th>\n",
       "      <td>86</td>\n",
       "      <td>0</td>\n",
       "      <td>3.020872e+09</td>\n",
       "    </tr>\n",
       "    <tr>\n",
       "      <th>4</th>\n",
       "      <td>88</td>\n",
       "      <td>0</td>\n",
       "      <td>3.020897e+09</td>\n",
       "    </tr>\n",
       "    <tr>\n",
       "      <th>...</th>\n",
       "      <td>...</td>\n",
       "      <td>...</td>\n",
       "      <td>...</td>\n",
       "    </tr>\n",
       "    <tr>\n",
       "      <th>103805</th>\n",
       "      <td>191266</td>\n",
       "      <td>1</td>\n",
       "      <td>3.706458e+09</td>\n",
       "    </tr>\n",
       "    <tr>\n",
       "      <th>103806</th>\n",
       "      <td>191269</td>\n",
       "      <td>1</td>\n",
       "      <td>3.706571e+09</td>\n",
       "    </tr>\n",
       "    <tr>\n",
       "      <th>103807</th>\n",
       "      <td>191270</td>\n",
       "      <td>1</td>\n",
       "      <td>3.706577e+09</td>\n",
       "    </tr>\n",
       "    <tr>\n",
       "      <th>103808</th>\n",
       "      <td>191279</td>\n",
       "      <td>1</td>\n",
       "      <td>3.706952e+09</td>\n",
       "    </tr>\n",
       "    <tr>\n",
       "      <th>103809</th>\n",
       "      <td>191280</td>\n",
       "      <td>1</td>\n",
       "      <td>3.706954e+09</td>\n",
       "    </tr>\n",
       "  </tbody>\n",
       "</table>\n",
       "<p>103810 rows × 3 columns</p>\n",
       "</div>"
      ],
      "text/plain": [
       "        df_index  female_flag   customer_id\n",
       "0              7            0  3.017372e+09\n",
       "1             30            0  3.018459e+09\n",
       "2             82            0  3.020737e+09\n",
       "3             86            0  3.020872e+09\n",
       "4             88            0  3.020897e+09\n",
       "...          ...          ...           ...\n",
       "103805    191266            1  3.706458e+09\n",
       "103806    191269            1  3.706571e+09\n",
       "103807    191270            1  3.706577e+09\n",
       "103808    191279            1  3.706952e+09\n",
       "103809    191280            1  3.706954e+09\n",
       "\n",
       "[103810 rows x 3 columns]"
      ]
     },
     "execution_count": 6,
     "metadata": {},
     "output_type": "execute_result"
    }
   ],
   "source": [
    "partial_labels_df.rename(columns={\"Unnamed: 0\":\"df_index\"}, inplace=True)\n",
    "partial_labels_df"
   ]
  },
  {
   "cell_type": "markdown",
   "id": "3d28f1c4",
   "metadata": {},
   "source": [
    "# Normalize"
   ]
  },
  {
   "cell_type": "code",
   "execution_count": 7,
   "id": "66b9ab2d",
   "metadata": {},
   "outputs": [],
   "source": [
    "import joblib\n",
    "scaler = joblib.load(\"robust_scaler.pkl\")"
   ]
  },
  {
   "cell_type": "code",
   "execution_count": 8,
   "id": "a8fae8eb",
   "metadata": {},
   "outputs": [],
   "source": [
    "# Apply scaler on first 33 features\n",
    "scaled_feature_df = feature_df.copy()\n",
    "scaled_feature_df.iloc[:,:33] = scaler.transform(feature_df.iloc[:,:33])"
   ]
  },
  {
   "cell_type": "markdown",
   "id": "edf680c4",
   "metadata": {},
   "source": [
    "Here we'll handle missing values in a way that will confuse the model, to let it rely on other features to predict genders. So we fill this with median value"
   ]
  },
  {
   "cell_type": "code",
   "execution_count": 9,
   "id": "d0b12f39",
   "metadata": {},
   "outputs": [
    {
     "data": {
      "text/plain": [
       "Index(['items_per_order', 'vouchers_per_order', 'male_items_per_order',\n",
       "       'unisex_items_per_order', 'female_items_per_order', 'revenue_per_order',\n",
       "       'msite_orders_rate', 'desktop_orders_rate', 'android_orders_rate',\n",
       "       'ios_orders_rate', 'shipping_addresses_rate', 'home_orders_rate',\n",
       "       'parcelpoint_orders_rate', 'work_orders_rate', 'items_per_day',\n",
       "       'orders_per_day', 'returns_per_item', 'different_addresses_rate',\n",
       "       'male_items_rate', 'female_items_rate', 'unisex_items_rate',\n",
       "       'wapp_items_rate', 'wftw_items_rate', 'mapp_items_rate',\n",
       "       'wacc_items_rate', 'macc_items_rate', 'mftw_items_rate',\n",
       "       'cc_payments_rate', 'paypal_payments_rate', 'afterpay_payments_rate',\n",
       "       'revenue_per_items', 'coupon_discount_applied', 'devices',\n",
       "       'customer_id'],\n",
       "      dtype='object')"
      ]
     },
     "execution_count": 9,
     "metadata": {},
     "output_type": "execute_result"
    }
   ],
   "source": [
    "scaled_feature_df.columns"
   ]
  },
  {
   "cell_type": "markdown",
   "id": "b5d158ff",
   "metadata": {},
   "source": [
    "# Clean data for prediction"
   ]
  },
  {
   "cell_type": "code",
   "execution_count": 10,
   "id": "4680de25",
   "metadata": {},
   "outputs": [],
   "source": [
    "# add label\n",
    "full_df = pd.merge(scaled_feature_df, partial_labels_df, how=\"left\", left_on=scaled_feature_df.index, right_on=\"df_index\")\n",
    "\n",
    "# drop duplicate columns\n",
    "full_df.drop(['customer_id_y','df_index'], axis=1, inplace=True)\n",
    "full_df.rename(columns={'customer_id_x':\"customer_id\"}, inplace=True)\n",
    "\n",
    "\n",
    "# Rename to denote our current self-labeled\n",
    "full_df = full_df.rename(columns={\"female_flag\":\"pseudo_female_flag\"})\n",
    "\n",
    "# Replace nan with median value to confuse the model on the feature\n",
    "coupon_median = full_df[\"coupon_discount_applied\"].median()\n",
    "full_df[\"coupon_discount_applied\"] = full_df[\"coupon_discount_applied\"].fillna(coupon_median)\n",
    "\n",
    "median_revenue_per_order = full_df[\"revenue_per_order\"].median()\n",
    "full_df[\"revenue_per_order\"] = full_df[\"revenue_per_order\"].fillna(median_revenue_per_order)\n",
    "\n",
    "median_revenue_per_item = full_df[\"revenue_per_items\"].median()\n",
    "full_df[\"revenue_per_items\"] = full_df[\"revenue_per_items\"].fillna(median_revenue_per_item)\n",
    "\n",
    "# \"2\" denotes unlabeled class\n",
    "full_df.pseudo_female_flag = full_df.pseudo_female_flag.fillna(2)"
   ]
  },
  {
   "cell_type": "code",
   "execution_count": 11,
   "id": "918d433e",
   "metadata": {},
   "outputs": [],
   "source": [
    "X = full_df.iloc[:,:33].to_numpy()\n",
    "Y = full_df.loc[:,\"pseudo_female_flag\"].to_numpy()"
   ]
  },
  {
   "cell_type": "markdown",
   "id": "13b1724b",
   "metadata": {},
   "source": [
    "# Visualized Embedding features"
   ]
  },
  {
   "cell_type": "code",
   "execution_count": 12,
   "id": "c3a87dd0",
   "metadata": {},
   "outputs": [],
   "source": [
    "import optuna\n",
    "import plotly \n",
    "\n",
    "from sklearn.mixture import GaussianMixture\n",
    "from sklearn.cluster import KMeans\n",
    "from sklearn.metrics import silhouette_score\n",
    "\n",
    "from models.embeddingnet import EmbeddingNet\n",
    "import torch\n",
    "from collections import OrderedDict\n",
    "from sklearn.metrics import v_measure_score"
   ]
  },
  {
   "cell_type": "markdown",
   "id": "f2cc57f7",
   "metadata": {},
   "source": [
    "# Search for best dropout models"
   ]
  },
  {
   "cell_type": "code",
   "execution_count": 13,
   "id": "95e13ad0",
   "metadata": {},
   "outputs": [],
   "source": [
    "from sklearn.svm import SVC\n",
    "from sklearn.model_selection import train_test_split"
   ]
  },
  {
   "cell_type": "code",
   "execution_count": 14,
   "id": "2f35da19",
   "metadata": {},
   "outputs": [],
   "source": [
    "def run_random_trial(trial, min_val, max_val):\n",
    "    # Suggest dropout rate\n",
    "    dropout_rate = round(trial.suggest_float(\"dropout_rate\",min_val,max_val,step=0.05),2)\n",
    "    embedding_model = EmbeddingNet(input_dim = 33, dropout=dropout_rate)\n",
    "\n",
    "    # load embedder weight\n",
    "    ckpt_path = f\"outputs/weights_dropout_{dropout_rate}.ckpt\"\n",
    "    checkpoint = torch.load(ckpt_path, map_location=lambda storage, loc: storage)\n",
    "    state_dict = checkpoint[\"state_dict\"]\n",
    "    state_dict = OrderedDict([(k.replace(\"embeddingnet.\",\"\"), v) for k, v in state_dict.items()])\n",
    "    embedding_model.load_state_dict(state_dict)\n",
    "    embedding_model.eval()\n",
    "    embedded_X = embedding_model.forward(torch.Tensor(X))\n",
    "    embedded_X = embedded_X.detach().numpy()\n",
    "    \n",
    "    # Fit with GMM\n",
    "    #pred = GaussianMixture(n_components=2, random_state=0).fit_predict(embedded_X.detach().numpy())\n",
    "    pred = KMeans(n_clusters=2, random_state=0).fit_predict(embedded_X)\n",
    "    \n",
    "    # Constraint with V measure\n",
    "    mask_pseudo_label = np.logical_or(Y == 1, Y == 0)\n",
    "    return embedded_X, pred, mask_pseudo_label\n",
    "\n",
    "def objective_v_measure(trial):\n",
    "    embedded_X, pred, mask_pseudo_label = run_random_trial(trial, min_val=0.0, max_val=1.0)\n",
    "    \n",
    "    v_measure =  v_measure_score(Y[mask_pseudo_label],pred[mask_pseudo_label])\n",
    "    return v_measure\n",
    "\n",
    "def objective_silhouette(trial):\n",
    "    embedded_X, pred, mask_pseudo_label = run_random_trial(trial, min_val=0.0, max_val=0.5)\n",
    "\n",
    "    # because silhouette score too expensive to compute, scale quadratically with n\n",
    "    # sample a small one to measure \n",
    "    embedded_X_sample, _, pred_sample, _ = train_test_split(embedded_X, pred,stratify=pred, train_size = N_SILHOUTTE_SAMPLES)\n",
    "    score = silhouette_score(embedded_X_sample, pred_sample)\n",
    "\n",
    "    return score"
   ]
  },
  {
   "cell_type": "markdown",
   "id": "2793d2f1",
   "metadata": {},
   "source": [
    "# Study V-measure as dropout choice"
   ]
  },
  {
   "cell_type": "code",
   "execution_count": 16,
   "id": "e9ccf28a",
   "metadata": {},
   "outputs": [
    {
     "name": "stderr",
     "output_type": "stream",
     "text": [
      "\u001b[32m[I 2021-09-03 11:46:52,040]\u001b[0m Trial 27 finished with value: 0.9990658885055281 and parameters: {'dropout_rate': 0.0}. Best is trial 24 with value: 0.9990658885055281.\u001b[0m\n",
      "\u001b[32m[I 2021-09-03 11:46:52,647]\u001b[0m Trial 29 finished with value: 0.9990658885055281 and parameters: {'dropout_rate': 0.0}. Best is trial 24 with value: 0.9990658885055281.\u001b[0m\n",
      "\u001b[32m[I 2021-09-03 11:46:53,672]\u001b[0m Trial 31 finished with value: 0.9990658885055281 and parameters: {'dropout_rate': 0.0}. Best is trial 24 with value: 0.9990658885055281.\u001b[0m\n",
      "\u001b[32m[I 2021-09-03 11:46:53,682]\u001b[0m Trial 28 finished with value: 0.9990658885055281 and parameters: {'dropout_rate': 0.0}. Best is trial 24 with value: 0.9990658885055281.\u001b[0m\n",
      "\u001b[32m[I 2021-09-03 11:46:53,684]\u001b[0m Trial 30 finished with value: 0.9990658885055281 and parameters: {'dropout_rate': 0.0}. Best is trial 24 with value: 0.9990658885055281.\u001b[0m\n",
      "\u001b[32m[I 2021-09-03 11:46:54,883]\u001b[0m Trial 32 finished with value: 0.9990658885055281 and parameters: {'dropout_rate': 0.0}. Best is trial 24 with value: 0.9990658885055281.\u001b[0m\n",
      "\u001b[32m[I 2021-09-03 11:46:55,250]\u001b[0m Trial 35 finished with value: 0.9990658885055281 and parameters: {'dropout_rate': 0.0}. Best is trial 24 with value: 0.9990658885055281.\u001b[0m\n",
      "\u001b[32m[I 2021-09-03 11:46:55,672]\u001b[0m Trial 33 finished with value: 0.9990658885055281 and parameters: {'dropout_rate': 0.0}. Best is trial 24 with value: 0.9990658885055281.\u001b[0m\n",
      "WARNING:neptune.new.internal.hardware.hardware_metric_reporting_job:psutil is not installed. Hardware metrics will not be collected.\n"
     ]
    },
    {
     "name": "stdout",
     "output_type": "stream",
     "text": [
      "https://app.neptune.ai/patricknewyen/gfg-challenge/e/GFGCHAL-233\n",
      "Remember to stop your run once you’ve finished logging your metadata (https://docs.neptune.ai/api-reference/run#stop). It will be stopped automatically only when the notebook kernel/interactive console is terminated.\n"
     ]
    },
    {
     "name": "stderr",
     "output_type": "stream",
     "text": [
      "\u001b[32m[I 2021-09-03 11:47:03,309]\u001b[0m A new study created in memory with name: no-name-41f40977-a5a6-4f8f-8846-b0d338afa359\u001b[0m\n",
      "/mnt/ai_filestore/home/patrick/miniconda3/envs/gfg/lib/python3.6/site-packages/optuna/study/study.py:397: FutureWarning:\n",
      "\n",
      "`n_jobs` argument has been deprecated in v2.7.0. This feature will be removed in v4.0.0. See https://github.com/optuna/optuna/releases/tag/v2.7.0.\n",
      "\n",
      "\u001b[32m[I 2021-09-03 11:47:07,361]\u001b[0m Trial 34 finished with value: 0.9990658885055281 and parameters: {'dropout_rate': 0.0}. Best is trial 24 with value: 0.9990658885055281.\u001b[0m\n",
      "\u001b[32m[I 2021-09-03 11:47:07,444]\u001b[0m Trial 36 finished with value: 0.9990658885055281 and parameters: {'dropout_rate': 0.0}. Best is trial 24 with value: 0.9990658885055281.\u001b[0m\n",
      "\u001b[32m[I 2021-09-03 11:47:42,223]\u001b[0m Trial 5 finished with value: 0.9961747858816115 and parameters: {'dropout_rate': 0.35000000000000003}. Best is trial 5 with value: 0.9961747858816115.\u001b[0m\n",
      "\u001b[32m[I 2021-09-03 11:47:42,601]\u001b[0m Trial 0 finished with value: 0.9961747858816115 and parameters: {'dropout_rate': 0.35000000000000003}. Best is trial 5 with value: 0.9961747858816115.\u001b[0m\n",
      "\u001b[32m[I 2021-09-03 11:47:43,475]\u001b[0m Trial 3 finished with value: 0.9979937506326728 and parameters: {'dropout_rate': 0.15000000000000002}. Best is trial 3 with value: 0.9979937506326728.\u001b[0m\n",
      "\u001b[32m[I 2021-09-03 11:47:43,547]\u001b[0m Trial 8 finished with value: 0.9953950107439066 and parameters: {'dropout_rate': 0.1}. Best is trial 3 with value: 0.9979937506326728.\u001b[0m\n",
      "\u001b[32m[I 2021-09-03 11:47:43,850]\u001b[0m Trial 1 finished with value: 0.996325937697625 and parameters: {'dropout_rate': 0.30000000000000004}. Best is trial 3 with value: 0.9979937506326728.\u001b[0m\n",
      "\u001b[32m[I 2021-09-03 11:47:44,363]\u001b[0m Trial 9 finished with value: 0.9692408284412914 and parameters: {'dropout_rate': 0.65}. Best is trial 3 with value: 0.9979937506326728.\u001b[0m\n",
      "\u001b[32m[I 2021-09-03 11:47:45,047]\u001b[0m Trial 11 finished with value: 0.9817030728233908 and parameters: {'dropout_rate': 0.6000000000000001}. Best is trial 3 with value: 0.9979937506326728.\u001b[0m\n",
      "\u001b[32m[I 2021-09-03 11:47:46,127]\u001b[0m Trial 10 finished with value: 4.355710021504425e-05 and parameters: {'dropout_rate': 0.8}. Best is trial 3 with value: 0.9979937506326728.\u001b[0m\n",
      "\u001b[32m[I 2021-09-03 11:47:47,635]\u001b[0m Trial 2 finished with value: 0.9796419041092405 and parameters: {'dropout_rate': 0.4}. Best is trial 3 with value: 0.9979937506326728.\u001b[0m\n",
      "\u001b[32m[I 2021-09-03 11:47:47,658]\u001b[0m Trial 7 finished with value: 0.9817030728233908 and parameters: {'dropout_rate': 0.6000000000000001}. Best is trial 3 with value: 0.9979937506326728.\u001b[0m\n",
      "\u001b[32m[I 2021-09-03 11:47:48,592]\u001b[0m Trial 6 finished with value: 0.7946851611211515 and parameters: {'dropout_rate': 0.9}. Best is trial 3 with value: 0.9979937506326728.\u001b[0m\n",
      "\u001b[32m[I 2021-09-03 11:47:48,804]\u001b[0m Trial 4 finished with value: 0.7946851611211515 and parameters: {'dropout_rate': 0.9}. Best is trial 3 with value: 0.9979937506326728.\u001b[0m\n",
      "ERROR:neptune.new.internal.operation_processors.async_operation_processor:Error occurred during asynchronous operation processing: X-coordinates (step) must be strictly increasing for series attribute: trials/values. Invalid point: 0.0\n",
      "ERROR:neptune.new.internal.operation_processors.async_operation_processor:Error occurred during asynchronous operation processing: X-coordinates (step) must be strictly increasing for series attribute: trials/values. Invalid point: 3.0\n",
      "ERROR:neptune.new.internal.operation_processors.async_operation_processor:Error occurred during asynchronous operation processing: X-coordinates (step) must be strictly increasing for series attribute: trials/values. Invalid point: 1.0\n",
      "\u001b[32m[I 2021-09-03 11:48:18,678]\u001b[0m Trial 12 finished with value: 0.9967758016115321 and parameters: {'dropout_rate': 0.05}. Best is trial 3 with value: 0.9979937506326728.\u001b[0m\n",
      "\u001b[32m[I 2021-09-03 11:48:26,050]\u001b[0m Trial 15 finished with value: 0.9967758016115321 and parameters: {'dropout_rate': 0.05}. Best is trial 3 with value: 0.9979937506326728.\u001b[0m\n",
      "\u001b[32m[I 2021-09-03 11:48:26,296]\u001b[0m Trial 13 finished with value: 0.9967758016115321 and parameters: {'dropout_rate': 0.05}. Best is trial 3 with value: 0.9979937506326728.\u001b[0m\n",
      "\u001b[32m[I 2021-09-03 11:48:27,334]\u001b[0m Trial 14 finished with value: 0.9967758016115321 and parameters: {'dropout_rate': 0.05}. Best is trial 3 with value: 0.9979937506326728.\u001b[0m\n",
      "\u001b[32m[I 2021-09-03 11:48:29,124]\u001b[0m Trial 16 finished with value: 0.9967758016115321 and parameters: {'dropout_rate': 0.05}. Best is trial 3 with value: 0.9979937506326728.\u001b[0m\n",
      "\u001b[32m[I 2021-09-03 11:48:34,568]\u001b[0m Trial 17 finished with value: 0.9967758016115321 and parameters: {'dropout_rate': 0.05}. Best is trial 3 with value: 0.9979937506326728.\u001b[0m\n",
      "\u001b[32m[I 2021-09-03 11:48:37,519]\u001b[0m Trial 20 finished with value: 0.9967758016115321 and parameters: {'dropout_rate': 0.05}. Best is trial 3 with value: 0.9979937506326728.\u001b[0m\n",
      "ERROR:neptune.new.internal.operation_processors.async_operation_processor:Error occurred during asynchronous operation processing: X-coordinates (step) must be strictly increasing for series attribute: trials/values. Invalid point: 10.0\u001b[32m[I 2021-09-03 11:48:37,693]\u001b[0m Trial 22 finished with value: 0.9967758016115321 and parameters: {'dropout_rate': 0.05}. Best is trial 3 with value: 0.9979937506326728.\u001b[0m\n",
      "\n",
      "ERROR:neptune.new.internal.operation_processors.async_operation_processor:Error occurred during asynchronous operation processing: X-coordinates (step) must be strictly increasing for series attribute: trials/values. Invalid point: 2.0\n",
      "ERROR:neptune.new.internal.operation_processors.async_operation_processor:Error occurred during asynchronous operation processing: X-coordinates (step) must be strictly increasing for series attribute: trials/values. Invalid point: 6.0\n",
      "ERROR:neptune.new.internal.operation_processors.async_operation_processor:Error occurred during asynchronous operation processing: X-coordinates (step) must be strictly increasing for series attribute: trials/values. Invalid point: 4.0\n",
      "ERROR:neptune.new.internal.operation_processors.async_operation_processor:Error occurred during asynchronous operation processing: X-coordinates (step) must be strictly increasing for series attribute: trials/values. Invalid point: 7.0\n",
      "\u001b[32m[I 2021-09-03 11:48:38,546]\u001b[0m Trial 19 finished with value: 0.9990658885055281 and parameters: {'dropout_rate': 0.0}. Best is trial 19 with value: 0.9990658885055281.\u001b[0m\n",
      "\u001b[32m[I 2021-09-03 11:48:39,316]\u001b[0m Trial 21 finished with value: 0.9953950107439066 and parameters: {'dropout_rate': 0.1}. Best is trial 19 with value: 0.9990658885055281.\u001b[0m\n",
      "\u001b[32m[I 2021-09-03 11:48:40,063]\u001b[0m Trial 18 finished with value: 0.9967758016115321 and parameters: {'dropout_rate': 0.05}. Best is trial 19 with value: 0.9990658885055281.\u001b[0m\n",
      "\u001b[32m[I 2021-09-03 11:48:40,855]\u001b[0m Trial 23 finished with value: 0.9967758016115321 and parameters: {'dropout_rate': 0.05}. Best is trial 19 with value: 0.9990658885055281.\u001b[0m\n",
      "\u001b[32m[I 2021-09-03 11:48:58,965]\u001b[0m Trial 24 finished with value: 0.9990658885055281 and parameters: {'dropout_rate': 0.0}. Best is trial 19 with value: 0.9990658885055281.\u001b[0m\n",
      "ERROR:neptune.new.internal.operation_processors.async_operation_processor:Error occurred during asynchronous operation processing: X-coordinates (step) must be strictly increasing for series attribute: trials/values. Invalid point: 13.0\n",
      "ERROR:neptune.new.internal.operation_processors.async_operation_processor:Error occurred during asynchronous operation processing: X-coordinates (step) must be strictly increasing for series attribute: trials/values. Invalid point: 14.0\n",
      "ERROR:neptune.new.internal.operation_processors.async_operation_processor:Error occurred during asynchronous operation processing: X-coordinates (step) must be strictly increasing for series attribute: trials/values. Invalid point: 19.0\n",
      "\u001b[32m[I 2021-09-03 11:49:07,886]\u001b[0m Trial 27 finished with value: 0.9935658217959709 and parameters: {'dropout_rate': 0.2}. Best is trial 19 with value: 0.9990658885055281.\u001b[0m\n",
      "\u001b[32m[I 2021-09-03 11:49:10,373]\u001b[0m Trial 25 finished with value: 0.9935658217959709 and parameters: {'dropout_rate': 0.2}. Best is trial 19 with value: 0.9990658885055281.\u001b[0m\n"
     ]
    },
    {
     "name": "stderr",
     "output_type": "stream",
     "text": [
      "\u001b[32m[I 2021-09-03 11:49:10,389]\u001b[0m Trial 26 finished with value: 0.9935658217959709 and parameters: {'dropout_rate': 0.2}. Best is trial 19 with value: 0.9990658885055281.\u001b[0m\n",
      "\u001b[32m[I 2021-09-03 11:49:12,728]\u001b[0m Trial 28 finished with value: 0.9935658217959709 and parameters: {'dropout_rate': 0.2}. Best is trial 19 with value: 0.9990658885055281.\u001b[0m\n",
      "ERROR:neptune.new.internal.operation_processors.async_operation_processor:Error occurred during asynchronous operation processing: X-coordinates (step) must be strictly increasing for series attribute: trials/values. Invalid point: 21.0\n",
      "ERROR:neptune.new.internal.operation_processors.async_operation_processor:Error occurred during asynchronous operation processing: X-coordinates (step) must be strictly increasing for series attribute: trials/values. Invalid point: 18.0\n",
      "\u001b[32m[I 2021-09-03 11:49:23,998]\u001b[0m Trial 29 finished with value: 0.9959785676887155 and parameters: {'dropout_rate': 0.25}. Best is trial 19 with value: 0.9990658885055281.\u001b[0m\n",
      "\u001b[32m[I 2021-09-03 11:49:25,927]\u001b[0m Trial 30 finished with value: 0.9935658217959709 and parameters: {'dropout_rate': 0.2}. Best is trial 19 with value: 0.9990658885055281.\u001b[0m\n",
      "\u001b[32m[I 2021-09-03 11:49:30,287]\u001b[0m Trial 31 finished with value: 0.9935658217959709 and parameters: {'dropout_rate': 0.2}. Best is trial 19 with value: 0.9990658885055281.\u001b[0m\n",
      "\u001b[32m[I 2021-09-03 11:49:35,965]\u001b[0m Trial 32 finished with value: 0.9935658217959709 and parameters: {'dropout_rate': 0.2}. Best is trial 19 with value: 0.9990658885055281.\u001b[0m\n",
      "\u001b[32m[I 2021-09-03 11:49:36,024]\u001b[0m Trial 33 finished with value: 0.9935658217959709 and parameters: {'dropout_rate': 0.2}. Best is trial 19 with value: 0.9990658885055281.\u001b[0m\n",
      "\u001b[32m[I 2021-09-03 11:49:37,595]\u001b[0m Trial 34 finished with value: 0.9935658217959709 and parameters: {'dropout_rate': 0.2}. Best is trial 19 with value: 0.9990658885055281.\u001b[0m\n",
      "\u001b[32m[I 2021-09-03 11:49:40,452]\u001b[0m Trial 35 finished with value: 0.9935658217959709 and parameters: {'dropout_rate': 0.2}. Best is trial 19 with value: 0.9990658885055281.\u001b[0m\n",
      "ERROR:neptune.new.internal.operation_processors.async_operation_processor:Error occurred during asynchronous operation processing: X-coordinates (step) must be strictly increasing for series attribute: trials/values. Invalid point: 25.0\n",
      "ERROR:neptune.new.internal.operation_processors.async_operation_processor:Error occurred during asynchronous operation processing: X-coordinates (step) must be strictly increasing for series attribute: trials/values. Invalid point: 26.0\n",
      "\u001b[32m[I 2021-09-03 11:49:49,006]\u001b[0m Trial 36 finished with value: 0.9935658217959709 and parameters: {'dropout_rate': 0.2}. Best is trial 19 with value: 0.9990658885055281.\u001b[0m\n",
      "\u001b[32m[I 2021-09-03 11:49:58,776]\u001b[0m Trial 37 finished with value: 0.996325937697625 and parameters: {'dropout_rate': 0.30000000000000004}. Best is trial 19 with value: 0.9990658885055281.\u001b[0m\n",
      "\u001b[32m[I 2021-09-03 11:50:01,475]\u001b[0m Trial 40 finished with value: 0.996325937697625 and parameters: {'dropout_rate': 0.30000000000000004}. Best is trial 19 with value: 0.9990658885055281.\u001b[0m\n",
      "\u001b[32m[I 2021-09-03 11:50:02,582]\u001b[0m Trial 38 finished with value: 1.177869353546874e-05 and parameters: {'dropout_rate': 0.45}. Best is trial 19 with value: 0.9990658885055281.\u001b[0m\n",
      "\u001b[32m[I 2021-09-03 11:50:04,395]\u001b[0m Trial 39 finished with value: 1.177869353546874e-05 and parameters: {'dropout_rate': 0.45}. Best is trial 19 with value: 0.9990658885055281.\u001b[0m\n",
      "\u001b[32m[I 2021-09-03 11:50:23,138]\u001b[0m Trial 41 finished with value: 0.9990658885055281 and parameters: {'dropout_rate': 0.0}. Best is trial 19 with value: 0.9990658885055281.\u001b[0m\n",
      "\u001b[32m[I 2021-09-03 11:50:26,513]\u001b[0m Trial 42 finished with value: 0.9990658885055281 and parameters: {'dropout_rate': 0.0}. Best is trial 19 with value: 0.9990658885055281.\u001b[0m\n",
      "\u001b[32m[I 2021-09-03 11:50:34,996]\u001b[0m Trial 43 finished with value: 1.177869353546874e-05 and parameters: {'dropout_rate': 0.45}. Best is trial 19 with value: 0.9990658885055281.\u001b[0m\n",
      "\u001b[32m[I 2021-09-03 11:50:35,803]\u001b[0m Trial 44 finished with value: 1.177869353546874e-05 and parameters: {'dropout_rate': 0.45}. Best is trial 19 with value: 0.9990658885055281.\u001b[0m\n",
      "\u001b[32m[I 2021-09-03 11:50:41,368]\u001b[0m Trial 45 finished with value: 0.996325937697625 and parameters: {'dropout_rate': 0.30000000000000004}. Best is trial 19 with value: 0.9990658885055281.\u001b[0m\n",
      "ERROR:neptune.new.internal.operation_processors.async_operation_processor:Error occurred during asynchronous operation processing: X-coordinates (step) must be strictly increasing for series attribute: trials/values. Invalid point: 38.0\u001b[32m[I 2021-09-03 11:50:42,734]\u001b[0m Trial 46 finished with value: 0.9796419041092405 and parameters: {'dropout_rate': 0.4}. Best is trial 19 with value: 0.9990658885055281.\u001b[0m\n",
      "\n",
      "ERROR:neptune.new.internal.operation_processors.async_operation_processor:Error occurred during asynchronous operation processing: X-coordinates (step) must be strictly increasing for series attribute: trials/values. Invalid point: 39.0\n",
      "\u001b[32m[I 2021-09-03 11:50:43,715]\u001b[0m Trial 47 finished with value: 0.996325937697625 and parameters: {'dropout_rate': 0.30000000000000004}. Best is trial 19 with value: 0.9990658885055281.\u001b[0m\n",
      "\u001b[32m[I 2021-09-03 11:50:58,031]\u001b[0m Trial 48 finished with value: 0.9796419041092405 and parameters: {'dropout_rate': 0.4}. Best is trial 19 with value: 0.9990658885055281.\u001b[0m\n",
      "\u001b[32m[I 2021-09-03 11:51:09,053]\u001b[0m Trial 49 finished with value: 0.9990658885055281 and parameters: {'dropout_rate': 0.0}. Best is trial 19 with value: 0.9990658885055281.\u001b[0m\n",
      "\u001b[32m[I 2021-09-03 11:51:12,515]\u001b[0m Trial 50 finished with value: 0.9990658885055281 and parameters: {'dropout_rate': 0.0}. Best is trial 19 with value: 0.9990658885055281.\u001b[0m\n",
      "\u001b[32m[I 2021-09-03 11:51:15,481]\u001b[0m Trial 51 finished with value: 0.9990658885055281 and parameters: {'dropout_rate': 0.0}. Best is trial 19 with value: 0.9990658885055281.\u001b[0m\n",
      "\u001b[32m[I 2021-09-03 11:51:17,351]\u001b[0m Trial 52 finished with value: 0.9990658885055281 and parameters: {'dropout_rate': 0.0}. Best is trial 19 with value: 0.9990658885055281.\u001b[0m\n",
      "\u001b[32m[I 2021-09-03 11:51:29,324]\u001b[0m Trial 53 finished with value: 0.9990658885055281 and parameters: {'dropout_rate': 0.0}. Best is trial 19 with value: 0.9990658885055281.\u001b[0m\n",
      "\u001b[32m[I 2021-09-03 11:51:35,756]\u001b[0m Trial 54 finished with value: 0.9990658885055281 and parameters: {'dropout_rate': 0.0}. Best is trial 19 with value: 0.9990658885055281.\u001b[0m\n",
      "\u001b[32m[I 2021-09-03 11:51:46,038]\u001b[0m Trial 56 finished with value: 0.9990658885055281 and parameters: {'dropout_rate': 0.0}. Best is trial 19 with value: 0.9990658885055281.\u001b[0m\n",
      "\u001b[32m[I 2021-09-03 11:51:46,280]\u001b[0m Trial 55 finished with value: 0.9990658885055281 and parameters: {'dropout_rate': 0.0}. Best is trial 19 with value: 0.9990658885055281.\u001b[0m\n",
      "\u001b[32m[I 2021-09-03 11:51:48,932]\u001b[0m Trial 57 finished with value: 0.9990658885055281 and parameters: {'dropout_rate': 0.0}. Best is trial 19 with value: 0.9990658885055281.\u001b[0m\n",
      "\u001b[32m[I 2021-09-03 11:51:53,731]\u001b[0m Trial 58 finished with value: 0.9990658885055281 and parameters: {'dropout_rate': 0.0}. Best is trial 19 with value: 0.9990658885055281.\u001b[0m\n",
      "\u001b[32m[I 2021-09-03 11:51:55,404]\u001b[0m Trial 59 finished with value: 0.9990658885055281 and parameters: {'dropout_rate': 0.0}. Best is trial 19 with value: 0.9990658885055281.\u001b[0m\n",
      "\u001b[32m[I 2021-09-03 11:51:58,053]\u001b[0m Trial 60 finished with value: 0.9990658885055281 and parameters: {'dropout_rate': 0.0}. Best is trial 19 with value: 0.9990658885055281.\u001b[0m\n",
      "\u001b[32m[I 2021-09-03 11:52:02,367]\u001b[0m Trial 61 finished with value: 0.9953950107439066 and parameters: {'dropout_rate': 0.1}. Best is trial 19 with value: 0.9990658885055281.\u001b[0m\n",
      "\u001b[32m[I 2021-09-03 11:52:04,524]\u001b[0m Trial 62 finished with value: 0.9953950107439066 and parameters: {'dropout_rate': 0.1}. Best is trial 19 with value: 0.9990658885055281.\u001b[0m\n",
      "\u001b[32m[I 2021-09-03 11:52:06,832]\u001b[0m Trial 63 finished with value: 0.9953950107439066 and parameters: {'dropout_rate': 0.1}. Best is trial 19 with value: 0.9990658885055281.\u001b[0m\n",
      "\u001b[32m[I 2021-09-03 11:52:07,085]\u001b[0m Trial 64 finished with value: 0.9953950107439066 and parameters: {'dropout_rate': 0.1}. Best is trial 19 with value: 0.9990658885055281.\u001b[0m\n"
     ]
    },
    {
     "name": "stderr",
     "output_type": "stream",
     "text": [
      "ERROR:neptune.new.internal.operation_processors.async_operation_processor:Error occurred during asynchronous operation processing: X-coordinates (step) must be strictly increasing for series attribute: trials/values. Invalid point: 55.0\n",
      "\u001b[32m[I 2021-09-03 11:52:17,736]\u001b[0m Trial 65 finished with value: 0.9953950107439066 and parameters: {'dropout_rate': 0.1}. Best is trial 19 with value: 0.9990658885055281.\u001b[0m\n",
      "\u001b[32m[I 2021-09-03 11:52:21,318]\u001b[0m Trial 66 finished with value: 0.9953950107439066 and parameters: {'dropout_rate': 0.1}. Best is trial 19 with value: 0.9990658885055281.\u001b[0m\n",
      "\u001b[32m[I 2021-09-03 11:52:52,228]\u001b[0m Trial 67 finished with value: 0.9953950107439066 and parameters: {'dropout_rate': 0.1}. Best is trial 19 with value: 0.9990658885055281.\u001b[0m\n",
      "\u001b[32m[I 2021-09-03 11:53:01,346]\u001b[0m Trial 68 finished with value: 0.9979937506326728 and parameters: {'dropout_rate': 0.15000000000000002}. Best is trial 19 with value: 0.9990658885055281.\u001b[0m\n",
      "\u001b[32m[I 2021-09-03 11:53:06,400]\u001b[0m Trial 69 finished with value: 0.9979937506326728 and parameters: {'dropout_rate': 0.15000000000000002}. Best is trial 19 with value: 0.9990658885055281.\u001b[0m\n",
      "\u001b[32m[I 2021-09-03 11:53:13,373]\u001b[0m Trial 70 finished with value: 0.9979937506326728 and parameters: {'dropout_rate': 0.15000000000000002}. Best is trial 19 with value: 0.9990658885055281.\u001b[0m\n",
      "\u001b[32m[I 2021-09-03 11:53:15,335]\u001b[0m Trial 71 finished with value: 0.7874103048903259 and parameters: {'dropout_rate': 0.7000000000000001}. Best is trial 19 with value: 0.9990658885055281.\u001b[0m\n",
      "\u001b[32m[I 2021-09-03 11:53:16,568]\u001b[0m Trial 72 finished with value: 0.903044379379455 and parameters: {'dropout_rate': 0.75}. Best is trial 19 with value: 0.9990658885055281.\u001b[0m\n",
      "\u001b[32m[I 2021-09-03 11:53:21,366]\u001b[0m Trial 73 finished with value: 0.9979937506326728 and parameters: {'dropout_rate': 0.15000000000000002}. Best is trial 19 with value: 0.9990658885055281.\u001b[0m\n",
      "\u001b[32m[I 2021-09-03 11:53:32,871]\u001b[0m Trial 77 finished with value: 0.9979937506326728 and parameters: {'dropout_rate': 0.15000000000000002}. Best is trial 19 with value: 0.9990658885055281.\u001b[0m\n",
      "\u001b[32m[I 2021-09-03 11:53:34,642]\u001b[0m Trial 76 finished with value: 0.9979937506326728 and parameters: {'dropout_rate': 0.15000000000000002}. Best is trial 19 with value: 0.9990658885055281.\u001b[0m\n",
      "\u001b[32m[I 2021-09-03 11:53:36,713]\u001b[0m Trial 74 finished with value: 0.0039759004523118625 and parameters: {'dropout_rate': 0.9500000000000001}. Best is trial 19 with value: 0.9990658885055281.\u001b[0m\n",
      "\u001b[32m[I 2021-09-03 11:53:40,804]\u001b[0m Trial 78 finished with value: 0.9979937506326728 and parameters: {'dropout_rate': 0.15000000000000002}. Best is trial 19 with value: 0.9990658885055281.\u001b[0m\n",
      "\u001b[32m[I 2021-09-03 11:53:41,472]\u001b[0m Trial 75 finished with value: 0.0039759004523118625 and parameters: {'dropout_rate': 0.9500000000000001}. Best is trial 19 with value: 0.9990658885055281.\u001b[0m\n",
      "ERROR:neptune.new.internal.operation_processors.async_operation_processor:Error occurred during asynchronous operation processing: X-coordinates (step) must be strictly increasing for series attribute: trials/values. Invalid point: 76.0\n",
      "ERROR:neptune.new.internal.operation_processors.async_operation_processor:Error occurred during asynchronous operation processing: X-coordinates (step) must be strictly increasing for series attribute: trials/values. Invalid point: 74.0\n",
      "\u001b[32m[I 2021-09-03 11:54:05,275]\u001b[0m Trial 79 finished with value: 0.903044379379455 and parameters: {'dropout_rate': 0.75}. Best is trial 19 with value: 0.9990658885055281.\u001b[0m\n",
      "\u001b[32m[I 2021-09-03 11:54:14,969]\u001b[0m Trial 80 finished with value: 0.9979937506326728 and parameters: {'dropout_rate': 0.15000000000000002}. Best is trial 19 with value: 0.9990658885055281.\u001b[0m\n",
      "\u001b[32m[I 2021-09-03 11:54:23,749]\u001b[0m Trial 81 finished with value: 0.9967758016115321 and parameters: {'dropout_rate': 0.05}. Best is trial 19 with value: 0.9990658885055281.\u001b[0m\n",
      "\u001b[32m[I 2021-09-03 11:54:26,889]\u001b[0m Trial 83 finished with value: 0.0003229768486413164 and parameters: {'dropout_rate': 1.0}. Best is trial 19 with value: 0.9990658885055281.\u001b[0m\n",
      "\u001b[32m[I 2021-09-03 11:54:28,074]\u001b[0m Trial 82 finished with value: 0.9967758016115321 and parameters: {'dropout_rate': 0.05}. Best is trial 19 with value: 0.9990658885055281.\u001b[0m\n",
      "\u001b[32m[I 2021-09-03 11:54:28,760]\u001b[0m Trial 84 finished with value: 0.9967758016115321 and parameters: {'dropout_rate': 0.05}. Best is trial 19 with value: 0.9990658885055281.\u001b[0m\n",
      "ERROR:neptune.new.internal.operation_processors.async_operation_processor:Error occurred during asynchronous operation processing: X-coordinates (step) must be strictly increasing for series attribute: trials/values. Invalid point: 75.0\n",
      "\u001b[32m[I 2021-09-03 11:54:32,344]\u001b[0m Trial 85 finished with value: 0.9967758016115321 and parameters: {'dropout_rate': 0.05}. Best is trial 19 with value: 0.9990658885055281.\u001b[0m\n",
      "\u001b[32m[I 2021-09-03 11:54:46,642]\u001b[0m Trial 86 finished with value: 0.9967758016115321 and parameters: {'dropout_rate': 0.05}. Best is trial 19 with value: 0.9990658885055281.\u001b[0m\n",
      "\u001b[32m[I 2021-09-03 11:54:47,399]\u001b[0m Trial 87 finished with value: 0.9967758016115321 and parameters: {'dropout_rate': 0.05}. Best is trial 19 with value: 0.9990658885055281.\u001b[0m\n",
      "\u001b[32m[I 2021-09-03 11:54:48,015]\u001b[0m Trial 88 finished with value: 0.9967758016115321 and parameters: {'dropout_rate': 0.05}. Best is trial 19 with value: 0.9990658885055281.\u001b[0m\n",
      "\u001b[32m[I 2021-09-03 11:54:53,195]\u001b[0m Trial 89 finished with value: 0.9967758016115321 and parameters: {'dropout_rate': 0.05}. Best is trial 19 with value: 0.9990658885055281.\u001b[0m\n",
      "\u001b[32m[I 2021-09-03 11:54:54,636]\u001b[0m Trial 90 finished with value: 0.9967758016115321 and parameters: {'dropout_rate': 0.05}. Best is trial 19 with value: 0.9990658885055281.\u001b[0m\n",
      "\u001b[32m[I 2021-09-03 11:55:07,794]\u001b[0m Trial 91 finished with value: 0.9967758016115321 and parameters: {'dropout_rate': 0.05}. Best is trial 19 with value: 0.9990658885055281.\u001b[0m\n",
      "ERROR:neptune.new.internal.operation_processors.async_operation_processor:Error occurred during asynchronous operation processing: X-coordinates (step) must be strictly increasing for series attribute: trials/values. Invalid point: 82.0\n",
      "\u001b[32m[I 2021-09-03 11:55:12,893]\u001b[0m Trial 92 finished with value: 0.9967758016115321 and parameters: {'dropout_rate': 0.05}. Best is trial 19 with value: 0.9990658885055281.\u001b[0m\n",
      "\u001b[32m[I 2021-09-03 11:55:20,218]\u001b[0m Trial 94 finished with value: 0.9990658885055281 and parameters: {'dropout_rate': 0.0}. Best is trial 19 with value: 0.9990658885055281.\u001b[0m\n",
      "\u001b[32m[I 2021-09-03 11:55:20,662]\u001b[0m Trial 93 finished with value: 0.9990658885055281 and parameters: {'dropout_rate': 0.0}. Best is trial 19 with value: 0.9990658885055281.\u001b[0m\n",
      "\u001b[32m[I 2021-09-03 11:55:21,199]\u001b[0m Trial 96 finished with value: 0.9990658885055281 and parameters: {'dropout_rate': 0.0}. Best is trial 19 with value: 0.9990658885055281.\u001b[0m\n",
      "\u001b[32m[I 2021-09-03 11:55:23,186]\u001b[0m Trial 95 finished with value: 0.9990658885055281 and parameters: {'dropout_rate': 0.0}. Best is trial 19 with value: 0.9990658885055281.\u001b[0m\n",
      "\u001b[32m[I 2021-09-03 11:55:23,447]\u001b[0m Trial 97 finished with value: 0.9990658885055281 and parameters: {'dropout_rate': 0.0}. Best is trial 19 with value: 0.9990658885055281.\u001b[0m\n",
      "\u001b[32m[I 2021-09-03 11:55:25,624]\u001b[0m Trial 98 finished with value: 0.9990658885055281 and parameters: {'dropout_rate': 0.0}. Best is trial 19 with value: 0.9990658885055281.\u001b[0m\n",
      "\u001b[32m[I 2021-09-03 11:55:25,699]\u001b[0m Trial 99 finished with value: 0.9990658885055281 and parameters: {'dropout_rate': 0.0}. Best is trial 19 with value: 0.9990658885055281.\u001b[0m\n",
      "ERROR:neptune.new.internal.operation_processors.async_operation_processor:Error occurred during asynchronous operation processing: X-coordinates (step) must be strictly increasing for series attribute: trials/values. Invalid point: 93.0\n",
      "ERROR:neptune.new.internal.operation_processors.async_operation_processor:Error occurred during asynchronous operation processing: X-coordinates (step) must be strictly increasing for series attribute: trials/values. Invalid point: 95.0\n"
     ]
    }
   ],
   "source": [
    "import neptune.new as neptune\n",
    "import neptune.new.integrations.optuna as optuna_utils\n",
    "from joblib import parallel_backend\n",
    "\n",
    "N_JOBS = 12\n",
    "# connect your script to Neptune\n",
    "run = neptune.init(project='patricknewyen/gfg-challenge', \n",
    "                   api_token='eyJhcGlfYWRkcmVzcyI6Imh0dHBzOi8vYXBwLm5lcHR1bmUuYWkiLCJhcGlfdXJsIjoiaHR0cHM6Ly9hcHAubmVwdHVuZS5haSIsImFwaV9rZXkiOiI5NTkzZDViOC0xOTM3LTQzMzAtODNkNi0zMTg4MjYwZGJlYzQifQ==',\n",
    "                   name = \"search_dropout\",\n",
    "                   tags = [\"optuna\",\"EmbeddingNet\",\"dropout\",\"v_measure\"])\n",
    "\n",
    "neptune_callback = optuna_utils.NeptuneCallback(run) # skip chart because failed plotly import\n",
    "\n",
    "study_v_measure = optuna.create_study(direction=\"maximize\")\n",
    "\n",
    "with parallel_backend('threading', n_jobs=N_JOBS):\n",
    "    study_v_measure.optimize(objective_v_measure, n_trials=100,n_jobs=N_JOBS, callbacks=[neptune_callback])"
   ]
  },
  {
   "cell_type": "code",
   "execution_count": null,
   "id": "e6acee80",
   "metadata": {
    "scrolled": false
   },
   "outputs": [],
   "source": [
    "optuna.visualization.plot_slice(study_v_measure, target_name=\"V measure\")"
   ]
  },
  {
   "cell_type": "markdown",
   "id": "8aad2b4e",
   "metadata": {},
   "source": [
    "# Study Silhouette score as dropout choice"
   ]
  },
  {
   "cell_type": "code",
   "execution_count": 24,
   "id": "e04db001",
   "metadata": {},
   "outputs": [],
   "source": [
    "V_MEASURE_THRESH = 0.95\n",
    "\n",
    "# because silhouette score too expensive to compute, sample then compute\n",
    "N_SILHOUTTE_SAMPLES = 10000"
   ]
  },
  {
   "cell_type": "code",
   "execution_count": 25,
   "id": "5a71d94b",
   "metadata": {},
   "outputs": [
    {
     "name": "stderr",
     "output_type": "stream",
     "text": [
      "WARNING:neptune.new.internal.hardware.hardware_metric_reporting_job:psutil is not installed. Hardware metrics will not be collected.\n"
     ]
    },
    {
     "name": "stdout",
     "output_type": "stream",
     "text": [
      "https://app.neptune.ai/patricknewyen/gfg-challenge/e/GFGCHAL-230\n",
      "Remember to stop your run once you’ve finished logging your metadata (https://docs.neptune.ai/api-reference/run#stop). It will be stopped automatically only when the notebook kernel/interactive console is terminated.\n"
     ]
    },
    {
     "name": "stderr",
     "output_type": "stream",
     "text": [
      "\u001b[32m[I 2021-09-03 11:31:47,854]\u001b[0m A new study created in memory with name: no-name-a45144c4-784c-4786-8464-2dcfe77b555a\u001b[0m\n",
      "/mnt/ai_filestore/home/patrick/miniconda3/envs/gfg/lib/python3.6/site-packages/optuna/study/study.py:397: FutureWarning:\n",
      "\n",
      "`n_jobs` argument has been deprecated in v2.7.0. This feature will be removed in v4.0.0. See https://github.com/optuna/optuna/releases/tag/v2.7.0.\n",
      "\n",
      "\u001b[32m[I 2021-09-03 11:32:18,145]\u001b[0m Trial 4 finished with value: 0.8744240403175354 and parameters: {'dropout_rate': 0.05}. Best is trial 4 with value: 0.8744240403175354.\u001b[0m\n",
      "\u001b[32m[I 2021-09-03 11:32:33,782]\u001b[0m Trial 1 finished with value: 0.9009379148483276 and parameters: {'dropout_rate': 0.35000000000000003}. Best is trial 1 with value: 0.9009379148483276.\u001b[0m\n",
      "\u001b[32m[I 2021-09-03 11:32:33,972]\u001b[0m Trial 9 finished with value: 0.8691591620445251 and parameters: {'dropout_rate': 0.45}. Best is trial 1 with value: 0.9009379148483276.\u001b[0m\n",
      "\u001b[32m[I 2021-09-03 11:32:34,124]\u001b[0m Trial 0 finished with value: 0.9034616947174072 and parameters: {'dropout_rate': 0.35000000000000003}. Best is trial 0 with value: 0.9034616947174072.\u001b[0m\n",
      "\u001b[32m[I 2021-09-03 11:32:44,883]\u001b[0m Trial 3 finished with value: 0.8483238220214844 and parameters: {'dropout_rate': 0.5}. Best is trial 0 with value: 0.9034616947174072.\u001b[0m\n",
      "\u001b[32m[I 2021-09-03 11:32:44,985]\u001b[0m Trial 5 finished with value: 0.8072513341903687 and parameters: {'dropout_rate': 0.25}. Best is trial 0 with value: 0.9034616947174072.\u001b[0m\n",
      "\u001b[32m[I 2021-09-03 11:32:45,697]\u001b[0m Trial 6 finished with value: 0.869990348815918 and parameters: {'dropout_rate': 0.45}. Best is trial 0 with value: 0.9034616947174072.\u001b[0m\n",
      "\u001b[32m[I 2021-09-03 11:32:45,948]\u001b[0m Trial 11 finished with value: 0.8742960691452026 and parameters: {'dropout_rate': 0.05}. Best is trial 0 with value: 0.9034616947174072.\u001b[0m\n",
      "\u001b[32m[I 2021-09-03 11:32:46,174]\u001b[0m Trial 10 finished with value: 0.8694038987159729 and parameters: {'dropout_rate': 0.05}. Best is trial 0 with value: 0.9034616947174072.\u001b[0m\n",
      "\u001b[32m[I 2021-09-03 11:32:46,302]\u001b[0m Trial 8 finished with value: 0.8946712613105774 and parameters: {'dropout_rate': 0.15000000000000002}. Best is trial 0 with value: 0.9034616947174072.\u001b[0m\n",
      "\u001b[32m[I 2021-09-03 11:32:46,348]\u001b[0m Trial 7 finished with value: 0.8313859105110168 and parameters: {'dropout_rate': 0.30000000000000004}. Best is trial 0 with value: 0.9034616947174072.\u001b[0m\n",
      "\u001b[32m[I 2021-09-03 11:32:46,400]\u001b[0m Trial 2 finished with value: 0.801835834980011 and parameters: {'dropout_rate': 0.25}. Best is trial 0 with value: 0.9034616947174072.\u001b[0m\n",
      "\u001b[32m[I 2021-09-03 11:32:46,852]\u001b[0m Trial 12 finished with value: 0.8518013954162598 and parameters: {'dropout_rate': 0.4}. Best is trial 0 with value: 0.9034616947174072.\u001b[0m\n",
      "\u001b[32m[I 2021-09-03 11:32:50,234]\u001b[0m Trial 15 finished with value: 0.8954986333847046 and parameters: {'dropout_rate': 0.15000000000000002}. Best is trial 0 with value: 0.9034616947174072.\u001b[0m\n",
      "\u001b[32m[I 2021-09-03 11:32:50,410]\u001b[0m Trial 13 finished with value: 0.8524368405342102 and parameters: {'dropout_rate': 0.2}. Best is trial 0 with value: 0.9034616947174072.\u001b[0m\n",
      "\u001b[32m[I 2021-09-03 11:32:50,461]\u001b[0m Trial 14 finished with value: 0.8290123343467712 and parameters: {'dropout_rate': 0.30000000000000004}. Best is trial 0 with value: 0.9034616947174072.\u001b[0m\n",
      "\u001b[32m[I 2021-09-03 11:32:55,660]\u001b[0m Trial 16 finished with value: 0.9028090834617615 and parameters: {'dropout_rate': 0.35000000000000003}. Best is trial 0 with value: 0.9034616947174072.\u001b[0m\n",
      "ERROR:neptune.new.internal.operation_processors.async_operation_processor:Error occurred during asynchronous operation processing: X-coordinates (step) must be strictly increasing for series attribute: trials/values. Invalid point: 1.0\n",
      "ERROR:neptune.new.internal.operation_processors.async_operation_processor:Error occurred during asynchronous operation processing: X-coordinates (step) must be strictly increasing for series attribute: trials/values. Invalid point: 0.0\n",
      "\u001b[32m[I 2021-09-03 11:33:36,281]\u001b[0m Trial 17 finished with value: 0.8543959856033325 and parameters: {'dropout_rate': 0.4}. Best is trial 0 with value: 0.9034616947174072.\u001b[0m\n",
      "\u001b[32m[I 2021-09-03 11:33:39,946]\u001b[0m Trial 18 finished with value: 0.8999866247177124 and parameters: {'dropout_rate': 0.35000000000000003}. Best is trial 0 with value: 0.9034616947174072.\u001b[0m\n",
      "\u001b[32m[I 2021-09-03 11:33:48,587]\u001b[0m Trial 19 finished with value: 0.9011900424957275 and parameters: {'dropout_rate': 0.35000000000000003}. Best is trial 0 with value: 0.9034616947174072.\u001b[0m\n",
      "\u001b[32m[I 2021-09-03 11:33:51,743]\u001b[0m Trial 22 finished with value: 0.9001028537750244 and parameters: {'dropout_rate': 0.35000000000000003}. Best is trial 0 with value: 0.9034616947174072.\u001b[0m\n",
      "\u001b[32m[I 2021-09-03 11:33:52,882]\u001b[0m Trial 21 finished with value: 0.9021375179290771 and parameters: {'dropout_rate': 0.35000000000000003}. Best is trial 0 with value: 0.9034616947174072.\u001b[0m\n",
      "\u001b[32m[I 2021-09-03 11:33:53,170]\u001b[0m Trial 20 finished with value: 0.9015253782272339 and parameters: {'dropout_rate': 0.35000000000000003}. Best is trial 0 with value: 0.9034616947174072.\u001b[0m\n",
      "\u001b[32m[I 2021-09-03 11:33:53,675]\u001b[0m Trial 23 finished with value: 0.9030852317810059 and parameters: {'dropout_rate': 0.35000000000000003}. Best is trial 0 with value: 0.9034616947174072.\u001b[0m\n",
      "ERROR:neptune.new.internal.operation_processors.async_operation_processor:Error occurred during asynchronous operation processing: X-coordinates (step) must be strictly increasing for series attribute: trials/values. Invalid point: 3.0\n",
      "ERROR:neptune.new.internal.operation_processors.async_operation_processor:Error occurred during asynchronous operation processing: X-coordinates (step) must be strictly increasing for series attribute: trials/values. Invalid point: 5.0\n",
      "ERROR:neptune.new.internal.operation_processors.async_operation_processor:Error occurred during asynchronous operation processing: X-coordinates (step) must be strictly increasing for series attribute: trials/values. Invalid point: 6.0\n",
      "ERROR:neptune.new.internal.operation_processors.async_operation_processor:Error occurred during asynchronous operation processing: X-coordinates (step) must be strictly increasing for series attribute: trials/values. Invalid point: 8.0\n",
      "ERROR:neptune.new.internal.operation_processors.async_operation_processor:Error occurred during asynchronous operation processing: X-coordinates (step) must be strictly increasing for series attribute: trials/values. Invalid point: 7.0\n",
      "ERROR:neptune.new.internal.operation_processors.async_operation_processor:Error occurred during asynchronous operation processing: X-coordinates (step) must be strictly increasing for series attribute: trials/values. Invalid point: 2.0\n",
      "ERROR:neptune.new.internal.operation_processors.async_operation_processor:Error occurred during asynchronous operation processing: X-coordinates (step) must be strictly increasing for series attribute: trials/values. Invalid point: 14.0\n",
      "ERROR:neptune.new.internal.operation_processors.async_operation_processor:Error occurred during asynchronous operation processing: X-coordinates (step) must be strictly increasing for series attribute: trials/values. Invalid point: 13.0\n",
      "\u001b[32m[I 2021-09-03 11:34:02,062]\u001b[0m Trial 24 finished with value: 0.9015367031097412 and parameters: {'dropout_rate': 0.35000000000000003}. Best is trial 0 with value: 0.9034616947174072.\u001b[0m\n",
      "\u001b[32m[I 2021-09-03 11:34:12,635]\u001b[0m Trial 25 finished with value: 0.904593288898468 and parameters: {'dropout_rate': 0.35000000000000003}. Best is trial 25 with value: 0.904593288898468.\u001b[0m\n",
      "\u001b[32m[I 2021-09-03 11:34:12,773]\u001b[0m Trial 27 finished with value: 0.9019385576248169 and parameters: {'dropout_rate': 0.35000000000000003}. Best is trial 25 with value: 0.904593288898468.\u001b[0m\n",
      "\u001b[32m[I 2021-09-03 11:34:13,054]\u001b[0m Trial 28 finished with value: 0.9012088179588318 and parameters: {'dropout_rate': 0.35000000000000003}. Best is trial 25 with value: 0.904593288898468.\u001b[0m\n",
      "\u001b[32m[I 2021-09-03 11:34:13,194]\u001b[0m Trial 26 finished with value: 0.9002882838249207 and parameters: {'dropout_rate': 0.35000000000000003}. Best is trial 25 with value: 0.904593288898468.\u001b[0m\n",
      "\u001b[32m[I 2021-09-03 11:34:22,071]\u001b[0m Trial 29 finished with value: 0.8504979610443115 and parameters: {'dropout_rate': 0.5}. Best is trial 25 with value: 0.904593288898468.\u001b[0m\n"
     ]
    },
    {
     "name": "stderr",
     "output_type": "stream",
     "text": [
      "\u001b[32m[I 2021-09-03 11:34:23,125]\u001b[0m Trial 30 finished with value: 0.8498943448066711 and parameters: {'dropout_rate': 0.5}. Best is trial 25 with value: 0.904593288898468.\u001b[0m\n",
      "ERROR:neptune.new.internal.operation_processors.async_operation_processor:Error occurred during asynchronous operation processing: X-coordinates (step) must be strictly increasing for series attribute: trials/values. Invalid point: 21.0\n",
      "ERROR:neptune.new.internal.operation_processors.async_operation_processor:Error occurred during asynchronous operation processing: X-coordinates (step) must be strictly increasing for series attribute: trials/values. Invalid point: 20.0\n",
      "\u001b[32m[I 2021-09-03 11:34:25,230]\u001b[0m Trial 31 finished with value: 0.8484081029891968 and parameters: {'dropout_rate': 0.5}. Best is trial 25 with value: 0.904593288898468.\u001b[0m\n",
      "\u001b[32m[I 2021-09-03 11:34:28,580]\u001b[0m Trial 34 finished with value: 0.8694320321083069 and parameters: {'dropout_rate': 0.45}. Best is trial 25 with value: 0.904593288898468.\u001b[0m\n",
      "\u001b[32m[I 2021-09-03 11:34:29,191]\u001b[0m Trial 33 finished with value: 0.8692036867141724 and parameters: {'dropout_rate': 0.45}. Best is trial 25 with value: 0.904593288898468.\u001b[0m\n",
      "\u001b[32m[I 2021-09-03 11:34:30,194]\u001b[0m Trial 32 finished with value: 0.8701472878456116 and parameters: {'dropout_rate': 0.45}. Best is trial 25 with value: 0.904593288898468.\u001b[0m\n",
      "\u001b[32m[I 2021-09-03 11:34:31,740]\u001b[0m Trial 35 finished with value: 0.86777263879776 and parameters: {'dropout_rate': 0.45}. Best is trial 25 with value: 0.904593288898468.\u001b[0m\n",
      "\u001b[32m[I 2021-09-03 11:34:38,656]\u001b[0m Trial 36 finished with value: 0.8672741055488586 and parameters: {'dropout_rate': 0.45}. Best is trial 25 with value: 0.904593288898468.\u001b[0m\n",
      "\u001b[32m[I 2021-09-03 11:34:45,459]\u001b[0m Trial 37 finished with value: 0.8466066122055054 and parameters: {'dropout_rate': 0.5}. Best is trial 25 with value: 0.904593288898468.\u001b[0m\n",
      "ERROR:neptune.new.internal.operation_processors.async_operation_processor:Error occurred during asynchronous operation processing: X-coordinates (step) must be strictly increasing for series attribute: trials/values. Invalid point: 26.0\n",
      "\u001b[32m[I 2021-09-03 11:34:46,737]\u001b[0m Trial 38 finished with value: 0.8672161102294922 and parameters: {'dropout_rate': 0.45}. Best is trial 25 with value: 0.904593288898468.\u001b[0m\n",
      "\u001b[32m[I 2021-09-03 11:34:46,933]\u001b[0m Trial 39 finished with value: 0.8518432378768921 and parameters: {'dropout_rate': 0.5}. Best is trial 25 with value: 0.904593288898468.\u001b[0m\n",
      "\u001b[32m[I 2021-09-03 11:34:47,751]\u001b[0m Trial 40 finished with value: 0.8686590790748596 and parameters: {'dropout_rate': 0.45}. Best is trial 25 with value: 0.904593288898468.\u001b[0m\n",
      "\u001b[32m[I 2021-09-03 11:34:55,204]\u001b[0m Trial 41 finished with value: 0.8260224461555481 and parameters: {'dropout_rate': 0.30000000000000004}. Best is trial 25 with value: 0.904593288898468.\u001b[0m\n",
      "\u001b[32m[I 2021-09-03 11:34:58,049]\u001b[0m Trial 43 finished with value: 0.8262341618537903 and parameters: {'dropout_rate': 0.30000000000000004}. Best is trial 25 with value: 0.904593288898468.\u001b[0m\n",
      "\u001b[32m[I 2021-09-03 11:34:58,442]\u001b[0m Trial 42 finished with value: 0.8277832865715027 and parameters: {'dropout_rate': 0.30000000000000004}. Best is trial 25 with value: 0.904593288898468.\u001b[0m\n",
      "\u001b[32m[I 2021-09-03 11:35:05,832]\u001b[0m Trial 46 finished with value: 0.8292551636695862 and parameters: {'dropout_rate': 0.30000000000000004}. Best is trial 25 with value: 0.904593288898468.\u001b[0m\n",
      "\u001b[32m[I 2021-09-03 11:35:07,486]\u001b[0m Trial 45 finished with value: 0.8259289860725403 and parameters: {'dropout_rate': 0.30000000000000004}. Best is trial 25 with value: 0.904593288898468.\u001b[0m\n",
      "\u001b[32m[I 2021-09-03 11:35:08,087]\u001b[0m Trial 44 finished with value: 0.8252785205841064 and parameters: {'dropout_rate': 0.30000000000000004}. Best is trial 25 with value: 0.904593288898468.\u001b[0m\n",
      "\u001b[32m[I 2021-09-03 11:35:09,415]\u001b[0m Trial 47 finished with value: 0.8285551071166992 and parameters: {'dropout_rate': 0.30000000000000004}. Best is trial 25 with value: 0.904593288898468.\u001b[0m\n",
      "ERROR:neptune.new.internal.operation_processors.async_operation_processor:Error occurred during asynchronous operation processing: X-coordinates (step) must be strictly increasing for series attribute: trials/values. Invalid point: 33.0\n",
      "ERROR:neptune.new.internal.operation_processors.async_operation_processor:Error occurred during asynchronous operation processing: X-coordinates (step) must be strictly increasing for series attribute: trials/values. Invalid point: 32.0\n",
      "\u001b[32m[I 2021-09-03 11:35:14,701]\u001b[0m Trial 48 finished with value: 0.824944019317627 and parameters: {'dropout_rate': 0.30000000000000004}. Best is trial 25 with value: 0.904593288898468.\u001b[0m\n",
      "\u001b[32m[I 2021-09-03 11:35:22,942]\u001b[0m Trial 51 finished with value: 0.8260404467582703 and parameters: {'dropout_rate': 0.30000000000000004}. Best is trial 25 with value: 0.904593288898468.\u001b[0m\n",
      "\u001b[32m[I 2021-09-03 11:35:23,147]\u001b[0m Trial 49 finished with value: 0.8265703320503235 and parameters: {'dropout_rate': 0.30000000000000004}. Best is trial 25 with value: 0.904593288898468.\u001b[0m\n",
      "\u001b[32m[I 2021-09-03 11:35:23,373]\u001b[0m Trial 50 finished with value: 0.827650785446167 and parameters: {'dropout_rate': 0.30000000000000004}. Best is trial 25 with value: 0.904593288898468.\u001b[0m\n",
      "\u001b[32m[I 2021-09-03 11:35:24,474]\u001b[0m Trial 52 finished with value: 0.8303390741348267 and parameters: {'dropout_rate': 0.30000000000000004}. Best is trial 25 with value: 0.904593288898468.\u001b[0m\n",
      "\u001b[32m[I 2021-09-03 11:35:29,660]\u001b[0m Trial 53 finished with value: 0.8078547120094299 and parameters: {'dropout_rate': 0.25}. Best is trial 25 with value: 0.904593288898468.\u001b[0m\n",
      "\u001b[32m[I 2021-09-03 11:35:30,676]\u001b[0m Trial 54 finished with value: 0.8525798916816711 and parameters: {'dropout_rate': 0.4}. Best is trial 25 with value: 0.904593288898468.\u001b[0m\n",
      "\u001b[32m[I 2021-09-03 11:35:32,405]\u001b[0m Trial 55 finished with value: 0.8541916012763977 and parameters: {'dropout_rate': 0.4}. Best is trial 25 with value: 0.904593288898468.\u001b[0m\n",
      "ERROR:neptune.new.internal.operation_processors.async_operation_processor:Error occurred during asynchronous operation processing: X-coordinates (step) must be strictly increasing for series attribute: trials/values. Invalid point: 42.0\n",
      "ERROR:neptune.new.internal.operation_processors.async_operation_processor:Error occurred during asynchronous operation processing: X-coordinates (step) must be strictly increasing for series attribute: trials/values. Invalid point: 45.0\n",
      "ERROR:neptune.new.internal.operation_processors.async_operation_processor:Error occurred during asynchronous operation processing: X-coordinates (step) must be strictly increasing for series attribute: trials/values. Invalid point: 44.0\n",
      "\u001b[32m[I 2021-09-03 11:35:39,182]\u001b[0m Trial 58 finished with value: 0.8575958013534546 and parameters: {'dropout_rate': 0.4}. Best is trial 25 with value: 0.904593288898468.\u001b[0m\n",
      "\u001b[32m[I 2021-09-03 11:35:39,588]\u001b[0m Trial 57 finished with value: 0.8564836978912354 and parameters: {'dropout_rate': 0.4}. Best is trial 25 with value: 0.904593288898468.\u001b[0m\n",
      "\u001b[32m[I 2021-09-03 11:35:41,238]\u001b[0m Trial 56 finished with value: 0.8545105457305908 and parameters: {'dropout_rate': 0.4}. Best is trial 25 with value: 0.904593288898468.\u001b[0m\n",
      "\u001b[32m[I 2021-09-03 11:35:43,567]\u001b[0m Trial 59 finished with value: 0.8532514572143555 and parameters: {'dropout_rate': 0.4}. Best is trial 25 with value: 0.904593288898468.\u001b[0m\n",
      "\u001b[32m[I 2021-09-03 11:35:47,467]\u001b[0m Trial 60 finished with value: 0.8097884654998779 and parameters: {'dropout_rate': 0.25}. Best is trial 25 with value: 0.904593288898468.\u001b[0m\n",
      "ERROR:neptune.new.internal.operation_processors.async_operation_processor:Error occurred during asynchronous operation processing: X-coordinates (step) must be strictly increasing for series attribute: trials/values. Invalid point: 49.0\n",
      "ERROR:neptune.new.internal.operation_processors.async_operation_processor:Error occurred during asynchronous operation processing: X-coordinates (step) must be strictly increasing for series attribute: trials/values. Invalid point: 50.0\n",
      "\u001b[32m[I 2021-09-03 11:36:01,273]\u001b[0m Trial 62 finished with value: 0.8582685589790344 and parameters: {'dropout_rate': 0.4}. Best is trial 25 with value: 0.904593288898468.\u001b[0m\n"
     ]
    },
    {
     "name": "stderr",
     "output_type": "stream",
     "text": [
      "\u001b[32m[I 2021-09-03 11:36:01,362]\u001b[0m Trial 61 finished with value: 0.8552014827728271 and parameters: {'dropout_rate': 0.4}. Best is trial 25 with value: 0.904593288898468.\u001b[0m\n",
      "\u001b[32m[I 2021-09-03 11:36:34,344]\u001b[0m Trial 64 finished with value: 0.8520992398262024 and parameters: {'dropout_rate': 0.4}. Best is trial 25 with value: 0.904593288898468.\u001b[0m\n",
      "\u001b[32m[I 2021-09-03 11:36:34,717]\u001b[0m Trial 63 finished with value: 0.8523929715156555 and parameters: {'dropout_rate': 0.4}. Best is trial 25 with value: 0.904593288898468.\u001b[0m\n",
      "\u001b[32m[I 2021-09-03 11:36:38,446]\u001b[0m Trial 65 finished with value: 0.8565658330917358 and parameters: {'dropout_rate': 0.4}. Best is trial 25 with value: 0.904593288898468.\u001b[0m\n",
      "\u001b[32m[I 2021-09-03 11:36:38,549]\u001b[0m Trial 66 finished with value: 0.8575294017791748 and parameters: {'dropout_rate': 0.4}. Best is trial 25 with value: 0.904593288898468.\u001b[0m\n",
      "\u001b[32m[I 2021-09-03 11:36:39,046]\u001b[0m Trial 67 finished with value: 0.8571264743804932 and parameters: {'dropout_rate': 0.4}. Best is trial 25 with value: 0.904593288898468.\u001b[0m\n",
      "\u001b[32m[I 2021-09-03 11:36:44,795]\u001b[0m Trial 68 finished with value: 0.8190007209777832 and parameters: {'dropout_rate': 0.25}. Best is trial 25 with value: 0.904593288898468.\u001b[0m\n",
      "\u001b[32m[I 2021-09-03 11:36:46,603]\u001b[0m Trial 69 finished with value: 0.8108983039855957 and parameters: {'dropout_rate': 0.25}. Best is trial 25 with value: 0.904593288898468.\u001b[0m\n",
      "\u001b[32m[I 2021-09-03 11:36:47,202]\u001b[0m Trial 70 finished with value: 0.8054361343383789 and parameters: {'dropout_rate': 0.25}. Best is trial 25 with value: 0.904593288898468.\u001b[0m\n",
      "\u001b[32m[I 2021-09-03 11:36:52,250]\u001b[0m Trial 71 finished with value: 0.8593205809593201 and parameters: {'dropout_rate': 0.2}. Best is trial 25 with value: 0.904593288898468.\u001b[0m\n",
      "ERROR:neptune.new.internal.operation_processors.async_operation_processor:Error occurred during asynchronous operation processing: X-coordinates (step) must be strictly increasing for series attribute: trials/values. Invalid point: 57.0\n",
      "ERROR:neptune.new.internal.operation_processors.async_operation_processor:Error occurred during asynchronous operation processing: X-coordinates (step) must be strictly increasing for series attribute: trials/values. Invalid point: 56.0\n",
      "ERROR:neptune.new.internal.operation_processors.async_operation_processor:Error occurred during asynchronous operation processing: X-coordinates (step) must be strictly increasing for series attribute: trials/values. Invalid point: 61.0\n",
      "\u001b[32m[I 2021-09-03 11:36:53,083]\u001b[0m Trial 72 finished with value: 0.9019162058830261 and parameters: {'dropout_rate': 0.35000000000000003}. Best is trial 25 with value: 0.904593288898468.\u001b[0m\n",
      "\u001b[32m[I 2021-09-03 11:37:03,730]\u001b[0m Trial 73 finished with value: 0.8999511003494263 and parameters: {'dropout_rate': 0.35000000000000003}. Best is trial 25 with value: 0.904593288898468.\u001b[0m\n",
      "\u001b[32m[I 2021-09-03 11:37:04,048]\u001b[0m Trial 74 finished with value: 0.9005064368247986 and parameters: {'dropout_rate': 0.35000000000000003}. Best is trial 25 with value: 0.904593288898468.\u001b[0m\n",
      "\u001b[32m[I 2021-09-03 11:37:08,539]\u001b[0m Trial 75 finished with value: 0.9011426568031311 and parameters: {'dropout_rate': 0.35000000000000003}. Best is trial 25 with value: 0.904593288898468.\u001b[0m\n",
      "\u001b[32m[I 2021-09-03 11:37:08,795]\u001b[0m Trial 76 finished with value: 0.9015571475028992 and parameters: {'dropout_rate': 0.35000000000000003}. Best is trial 25 with value: 0.904593288898468.\u001b[0m\n",
      "\u001b[32m[I 2021-09-03 11:37:13,462]\u001b[0m Trial 77 finished with value: 0.8991112112998962 and parameters: {'dropout_rate': 0.35000000000000003}. Best is trial 25 with value: 0.904593288898468.\u001b[0m\n",
      "\u001b[32m[I 2021-09-03 11:37:14,744]\u001b[0m Trial 79 finished with value: 0.8987065553665161 and parameters: {'dropout_rate': 0.35000000000000003}. Best is trial 25 with value: 0.904593288898468.\u001b[0m\n",
      "\u001b[32m[I 2021-09-03 11:37:16,250]\u001b[0m Trial 78 finished with value: 0.9000651240348816 and parameters: {'dropout_rate': 0.35000000000000003}. Best is trial 25 with value: 0.904593288898468.\u001b[0m\n",
      "ERROR:neptune.new.internal.operation_processors.async_operation_processor:Error occurred during asynchronous operation processing: X-coordinates (step) must be strictly increasing for series attribute: trials/values. Invalid point: 63.0\n",
      "\u001b[32m[I 2021-09-03 11:37:21,488]\u001b[0m Trial 80 finished with value: 0.9006370902061462 and parameters: {'dropout_rate': 0.35000000000000003}. Best is trial 25 with value: 0.904593288898468.\u001b[0m\n",
      "\u001b[32m[I 2021-09-03 11:37:23,329]\u001b[0m Trial 82 finished with value: 0.9005025625228882 and parameters: {'dropout_rate': 0.35000000000000003}. Best is trial 25 with value: 0.904593288898468.\u001b[0m\n",
      "\u001b[32m[I 2021-09-03 11:37:23,754]\u001b[0m Trial 81 finished with value: 0.9033301472663879 and parameters: {'dropout_rate': 0.35000000000000003}. Best is trial 25 with value: 0.904593288898468.\u001b[0m\n",
      "\u001b[32m[I 2021-09-03 11:37:27,033]\u001b[0m Trial 83 finished with value: 0.9011293053627014 and parameters: {'dropout_rate': 0.35000000000000003}. Best is trial 25 with value: 0.904593288898468.\u001b[0m\n",
      "\u001b[32m[I 2021-09-03 11:37:29,506]\u001b[0m Trial 84 finished with value: 0.9044631123542786 and parameters: {'dropout_rate': 0.35000000000000003}. Best is trial 25 with value: 0.904593288898468.\u001b[0m\n",
      "ERROR:neptune.new.internal.operation_processors.async_operation_processor:Error occurred during asynchronous operation processing: X-coordinates (step) must be strictly increasing for series attribute: trials/values. Invalid point: 78.0\n",
      "\u001b[32m[I 2021-09-03 11:37:41,507]\u001b[0m Trial 85 finished with value: 0.8628203868865967 and parameters: {'dropout_rate': 0.0}. Best is trial 25 with value: 0.904593288898468.\u001b[0m\n",
      "\u001b[32m[I 2021-09-03 11:37:48,160]\u001b[0m Trial 86 finished with value: 0.9026177525520325 and parameters: {'dropout_rate': 0.35000000000000003}. Best is trial 25 with value: 0.904593288898468.\u001b[0m\n",
      "\u001b[32m[I 2021-09-03 11:37:53,017]\u001b[0m Trial 87 finished with value: 0.8982834219932556 and parameters: {'dropout_rate': 0.35000000000000003}. Best is trial 25 with value: 0.904593288898468.\u001b[0m\n",
      "\u001b[32m[I 2021-09-03 11:37:53,685]\u001b[0m Trial 88 finished with value: 0.8672159910202026 and parameters: {'dropout_rate': 0.0}. Best is trial 25 with value: 0.904593288898468.\u001b[0m\n",
      "\u001b[32m[I 2021-09-03 11:37:54,445]\u001b[0m Trial 89 finished with value: 0.9234623908996582 and parameters: {'dropout_rate': 0.1}. Best is trial 89 with value: 0.9234623908996582.\u001b[0m\n",
      "\u001b[32m[I 2021-09-03 11:37:55,918]\u001b[0m Trial 90 finished with value: 0.8688021302223206 and parameters: {'dropout_rate': 0.0}. Best is trial 89 with value: 0.9234623908996582.\u001b[0m\n",
      "\u001b[32m[I 2021-09-03 11:37:56,171]\u001b[0m Trial 91 finished with value: 0.8610228300094604 and parameters: {'dropout_rate': 0.0}. Best is trial 89 with value: 0.9234623908996582.\u001b[0m\n",
      "\u001b[32m[I 2021-09-03 11:38:02,188]\u001b[0m Trial 92 finished with value: 0.8998579382896423 and parameters: {'dropout_rate': 0.35000000000000003}. Best is trial 89 with value: 0.9234623908996582.\u001b[0m\n",
      "\u001b[32m[I 2021-09-03 11:38:02,271]\u001b[0m Trial 93 finished with value: 0.9027130007743835 and parameters: {'dropout_rate': 0.35000000000000003}. Best is trial 89 with value: 0.9234623908996582.\u001b[0m\n",
      "\u001b[32m[I 2021-09-03 11:38:03,231]\u001b[0m Trial 94 finished with value: 0.8997463583946228 and parameters: {'dropout_rate': 0.35000000000000003}. Best is trial 89 with value: 0.9234623908996582.\u001b[0m\n",
      "\u001b[32m[I 2021-09-03 11:38:06,185]\u001b[0m Trial 95 finished with value: 0.9018213748931885 and parameters: {'dropout_rate': 0.35000000000000003}. Best is trial 89 with value: 0.9234623908996582.\u001b[0m\n",
      "\u001b[32m[I 2021-09-03 11:38:06,228]\u001b[0m Trial 96 finished with value: 0.9015310406684875 and parameters: {'dropout_rate': 0.35000000000000003}. Best is trial 89 with value: 0.9234623908996582.\u001b[0m\n",
      "ERROR:neptune.new.internal.operation_processors.async_operation_processor:Error occurred during asynchronous operation processing: X-coordinates (step) must be strictly increasing for series attribute: trials/values. Invalid point: 81.0\n",
      "\u001b[32m[I 2021-09-03 11:38:10,522]\u001b[0m Trial 97 finished with value: 0.9038941264152527 and parameters: {'dropout_rate': 0.35000000000000003}. Best is trial 89 with value: 0.9234623908996582.\u001b[0m\n",
      "\u001b[32m[I 2021-09-03 11:38:10,613]\u001b[0m Trial 98 finished with value: 0.9251866340637207 and parameters: {'dropout_rate': 0.1}. Best is trial 98 with value: 0.9251866340637207.\u001b[0m\n"
     ]
    },
    {
     "name": "stderr",
     "output_type": "stream",
     "text": [
      "\u001b[32m[I 2021-09-03 11:38:11,359]\u001b[0m Trial 99 finished with value: 0.8938578367233276 and parameters: {'dropout_rate': 0.15000000000000002}. Best is trial 98 with value: 0.9251866340637207.\u001b[0m\n"
     ]
    }
   ],
   "source": [
    "import neptune.new as neptune\n",
    "import neptune.new.integrations.optuna as optuna_utils\n",
    "from joblib import parallel_backend\n",
    "\n",
    "N_JOBS = 12\n",
    "# connect your script to Neptune\n",
    "run = neptune.init(project='patricknewyen/gfg-challenge', \n",
    "                   api_token='eyJhcGlfYWRkcmVzcyI6Imh0dHBzOi8vYXBwLm5lcHR1bmUuYWkiLCJhcGlfdXJsIjoiaHR0cHM6Ly9hcHAubmVwdHVuZS5haSIsImFwaV9rZXkiOiI5NTkzZDViOC0xOTM3LTQzMzAtODNkNi0zMTg4MjYwZGJlYzQifQ==',\n",
    "                   name = \"search_dropout\",\n",
    "                   tags = [\"optuna\", \"SuperTiny\",\"dropout\",\"silhouette\"])\n",
    "\n",
    "neptune_callback = optuna_utils.NeptuneCallback(run) # skip chart because failed plotly import\n",
    "\n",
    "study_silhouette = optuna.create_study(direction=\"maximize\")\n",
    "\n",
    "with parallel_backend('threading', n_jobs=N_JOBS):\n",
    "    study_silhouette.optimize(objective_silhouette, n_trials=100,n_jobs=N_JOBS, callbacks=[neptune_callback])"
   ]
  },
  {
   "cell_type": "code",
   "execution_count": null,
   "id": "2b2342d7",
   "metadata": {},
   "outputs": [],
   "source": []
  }
 ],
 "metadata": {
  "kernelspec": {
   "display_name": "Python 3",
   "language": "python",
   "name": "python3"
  },
  "language_info": {
   "codemirror_mode": {
    "name": "ipython",
    "version": 3
   },
   "file_extension": ".py",
   "mimetype": "text/x-python",
   "name": "python",
   "nbconvert_exporter": "python",
   "pygments_lexer": "ipython3",
   "version": "3.6.13"
  }
 },
 "nbformat": 4,
 "nbformat_minor": 5
}
